{
  "cells": [
    {
      "cell_type": "markdown",
      "metadata": {
        "deletable": false,
        "editable": false,
        "nbgrader": {
          "cell_type": "markdown",
          "checksum": "4c113f93239b265a1d83c37d41ea79a7",
          "grade": false,
          "grade_id": "cell-0a1cd97d29171e27",
          "locked": true,
          "schema_version": 3,
          "solution": false,
          "task": false
        },
        "id": "UXmj_k1Kopro"
      },
      "source": [
        "# Rules:\n",
        "    1. Follow the given instructions strictly as the assignment will be automatically rejected if not done so.\n",
        "    2. After you are done answering the questions, save the notebook in .ipynb format and rename it as so;\n",
        "        \n",
        "        <<Your name as visible on 'My Courses' page>>_PW3-A1.ipynb\n",
        "        \n",
        "    3. After renaming the file as above submit onto the platform."
      ]
    },
    {
      "cell_type": "markdown",
      "metadata": {
        "deletable": false,
        "editable": false,
        "nbgrader": {
          "cell_type": "markdown",
          "checksum": "31b33e7346bdaa5a04eb688faa7453c9",
          "grade": false,
          "grade_id": "cell-39806162dd625703",
          "locked": true,
          "schema_version": 3,
          "solution": false,
          "task": false
        },
        "id": "CmGfAe3Sopr2"
      },
      "source": [
        "# Python W3 - Assignment 01"
      ]
    },
    {
      "cell_type": "markdown",
      "metadata": {
        "deletable": false,
        "editable": false,
        "nbgrader": {
          "cell_type": "markdown",
          "checksum": "b3d4bce7dd835bbe25e6d570aa74eb6b",
          "grade": false,
          "grade_id": "Q1",
          "locked": true,
          "schema_version": 3,
          "solution": false,
          "task": false
        },
        "id": "Q_SsyeR1opr3"
      },
      "source": [
        "\n",
        "## Object Oriented Programming\n",
        "\n",
        "List down the main components of object oriented programming and explain them.\n",
        "\n",
        "Instructions:\n",
        "- Enter your solution in the cell block below only. Double click to edit.\n",
        "- Do not edit anything else apart from 'YOUR ANSWER HERE' for your solution"
      ]
    },
    {
      "cell_type": "markdown",
      "metadata": {
        "deletable": false,
        "nbgrader": {
          "cell_type": "markdown",
          "checksum": "b1bb0f26c3115f4d7d7f924544ba6de8",
          "grade": true,
          "grade_id": "A1",
          "locked": false,
          "points": 2,
          "schema_version": 3,
          "solution": true,
          "task": false
        },
        "id": "0f5e_U2Iopr5"
      },
      "source": [
        "**class:** Class is a bluprint of data memebrs and member functions. Class is used to package functions and variables in to bundle.\n",
        "\n",
        "**Object or instance of class:** Object or instance of class is used to call/access members of class.\n",
        "\n",
        "**Syntax of class :** \n",
        " ```\n",
        "# This is formatted as code\n",
        " class myclass:\n",
        "     x=5\n",
        "     def myfun(self):\n",
        "        print(\"This is memeber function of myclass\")\n",
        "  obj=myclass() #Object initialization\n",
        "  obj.myfun()   #calling Function\n",
        "```\n",
        "**Polymorphism** Polymorphism refers to the use of a single type method, operator or object to represent different behaviors types in different scenarios.\n",
        "\n",
        "**Ex. + Operator** is used for addition as well as concatenation. It means same opeartor used to perform two behaviors i.e. addition and concatination\n",
        "```\n",
        "# This is formatted as code\n",
        "x=5\n",
        "y=5\n",
        "z=x+y\n",
        "z   # it will print 10 as adddition\n",
        "x1=\"Hello\"\n",
        "Y1=\"Everyone\"\n",
        "Greet=x1 + y1\n",
        "Greet # in will print Concatenation as Hello Everyone\n",
        "```\n",
        "**Inheritance** It is used to inherit properties/data members and memebr functions of parent class in to child class. It is implement to reuse code or functions as well as reduce repeatation and length of code. It has many forms- \n",
        "\n",
        "1.   single Inheritance\n",
        "2.   multilevel inheritance\n",
        "3.   multiple inheritance\n",
        "4.   hierarchical Inheritance\n",
        "5.   Hybrid Inheritance\n",
        "\n",
        "```\n",
        "# This is formatted as code\n",
        "class fruit:\n",
        "  def __init__(self, name):\n",
        "    self.name=\"Mango\"\n",
        "  def printname(self):\n",
        "      print(self.name)\n",
        "class fruit2(fruit):\n",
        "  pass\n",
        "x = fruit2(\"Mango\")\n",
        "x.printname()\n",
        "```\n",
        "**Function overloading** It is used to implement same function for different task.Function may vary by supplying parameters or types of parameters. Inside python function overloading not supported. The next function overridesvalue return by first function.\n",
        "```\n",
        "# This is formatted as code\n",
        "class calc:\n",
        "  def printcal(self):\n",
        "   \tc=20 + 20 + 20\n",
        "   \tprint(c) \n",
        "  def printcal(self):\n",
        "   \tz=10+10\n",
        "   \tprint(z)\n",
        "x1=calc()\n",
        "x1.printcal()  #it prints 20\n",
        "```\n",
        "**function Overriding** It is mechanism which implements to override parent class method in child class.\n",
        "```\n",
        "# This is formatted as code\n",
        "class Parent():\n",
        "    def __init__(self):\n",
        "        self.value = \"constructor Inside Parent class\"\n",
        "     def show(self):\n",
        "        print(self.value)\n",
        "class Child(Parent):\n",
        "    def __init__(self):\n",
        "        self.value = \"constructor Inside Child\"\n",
        "    def show(self):\n",
        "        print(self.value)\n",
        " \n",
        "#obj1 = Parent()\n",
        "obj2 = Child()\n",
        "  \n",
        "obj2.show()\n",
        "obj2.show()\n",
        "```\n",
        "\n",
        "\n",
        "\n",
        "\n",
        "\n",
        "\n",
        "\n",
        "\n",
        "\n",
        "  "
      ]
    },
    {
      "cell_type": "code",
      "execution_count": null,
      "metadata": {
        "deletable": false,
        "editable": false,
        "nbgrader": {
          "cell_type": "code",
          "checksum": "eac05f55af24ef036be718ea50a5abc5",
          "grade": false,
          "grade_id": "cell-bdbb11386adf6c13",
          "locked": true,
          "schema_version": 3,
          "solution": false,
          "task": false
        },
        "id": "gLxFBdAaopr6"
      },
      "outputs": [],
      "source": [
        ""
      ]
    },
    {
      "cell_type": "markdown",
      "metadata": {
        "deletable": false,
        "editable": false,
        "nbgrader": {
          "cell_type": "markdown",
          "checksum": "45d35194399b7f3008c91d7f67c9b738",
          "grade": false,
          "grade_id": "cell-a13189a026c3771d",
          "locked": true,
          "schema_version": 3,
          "solution": false,
          "task": false
        },
        "id": "k_IqfZ4nopr8"
      },
      "source": [
        "## Match the following:\n",
        "\n",
        "A) Packages functions and variables into one bundle\\\n",
        "B) Object focused design\\\n",
        "C) Runs everytime you instantiate a class\\\n",
        "D) Data and functions focused design\n",
        "\n",
        "I. Procedural Oriented Programming\\\n",
        "II. Classes\\\n",
        "III. Constructor\\\n",
        "IV. OOP\\\n",
        "V. None"
      ]
    },
    {
      "cell_type": "markdown",
      "metadata": {
        "deletable": false,
        "nbgrader": {
          "cell_type": "markdown",
          "checksum": "1a0107d547bbc31ea16076f863855b96",
          "grade": true,
          "grade_id": "cell-5b0ec5b5f53b7705",
          "locked": false,
          "points": 1,
          "schema_version": 3,
          "solution": true,
          "task": false
        },
        "id": "VZd6Rlckopr-"
      },
      "source": [
        "A) Packages functions and variables into one bundle II.Classes\n",
        "\n",
        "B) Object focused design IV.OOP\n",
        "\n",
        "C) Runs everytime you instantiate a class III.Constructor\n",
        "\n",
        "D) Data and functions focused design I. Procedural Oriented Programming"
      ]
    },
    {
      "cell_type": "markdown",
      "metadata": {
        "deletable": false,
        "editable": false,
        "nbgrader": {
          "cell_type": "markdown",
          "checksum": "21813dd605aac6b7bc5e647521708569",
          "grade": false,
          "grade_id": "Q2",
          "locked": true,
          "schema_version": 3,
          "solution": false,
          "task": false
        },
        "id": "aaiNo0UZopr_"
      },
      "source": [
        "## Scenario Code\n",
        "\n",
        "At an animal shelter, the bookkeeper keeps track of different animals residing there, or those who have resided there before. For each different type of animal they have a designated set of instructions to follow about nutrition, medication etc. The bookkeeper is finding it hard to write down in excel sheets and account books, so they are looking into the programming side, to get some help. They hire a novice but skillful programmer inorder to tackle this bottleneck, which is you!\n",
        "\n",
        "You have to come with a structure of classes which can differentiate the following animals, demonstrating the OOP cocepts;\n",
        "\n",
        "`[Dog,Cat,Lion,Eagle,Crocodile,Crabs,Fishes,Lizard,Reptiles,Turtles, Vertebrates,Invertebrates, Insects, Arthropods, Crustaceans,Butterflies,cockroaches, ants]`\n",
        "\n",
        "Instructions:\n",
        "- Enter your solution in the cell block below only. Double click to edit.\n",
        "- Do not edit anything else apart from 'YOUR ANSWER HERE' for your solution"
      ]
    },
    {
      "cell_type": "markdown",
      "metadata": {
        "deletable": false,
        "nbgrader": {
          "cell_type": "markdown",
          "checksum": "932f2babf6b7024bb49654516db0d0cb",
          "grade": true,
          "grade_id": "A2",
          "locked": false,
          "points": 2,
          "schema_version": 3,
          "solution": true,
          "task": false
        },
        "id": "LJxdQVbaopsD"
      },
      "source": [
        "YOUR ANSWER HERE"
      ]
    },
    {
      "cell_type": "code",
      "execution_count": null,
      "metadata": {
        "deletable": false,
        "editable": false,
        "nbgrader": {
          "cell_type": "code",
          "checksum": "4a32da98702e61507f14b6eeb50c7c21",
          "grade": false,
          "grade_id": "cell-c583dcd635f03dab",
          "locked": true,
          "schema_version": 3,
          "solution": false,
          "task": false
        },
        "id": "aK-yu8nIopsF"
      },
      "outputs": [],
      "source": [
        "class animals:\n",
        "  global aname\n",
        "  #treat=\"\"\n",
        "  nlist=[]\n",
        "  mlist=[]\n",
        "  def selectanimal(self):\n",
        "    name =[\"Dog\",\"Cat\",\"Lion\",\"Eagle\",\"Crocodile\",\"Crabs\",\"Fishes\",\"Lizard\",\"Reptiles\",\"Turtles\",\"Vertebrates\",\"Invertebrates\",\"Insects\",\"Arthropods\",\"Crustaceans\",\"Butterflies\",\"cockroaches\",\"ants\"]\n",
        "    b = {1:\"Nutrition\",2:\"Medication\"}\n",
        "    print(\"Press key no for Animal Selction 1:Dog 2:Cat 3:Lion 4:Eagle 5:Crocodile 6:Crabs 7:Fishes 8:Lizard \\n 9:Reptiles 10:Turtles 11:Vertebrates 12:Invertebrates 13:Insects 14:Arthropods \\n 15:Crustaceans 16:Butterflies 17:cockroaches 18:ants \\n\")\n",
        "    n=int(input(\"Select animal No\"))\n",
        "    for i in range(len(name)):\n",
        "      if(i==n):\n",
        "        aname=name[n-1]\n",
        "        print(\"Selected animal from list is {}\".format(aname))\n",
        "        \n",
        "  def select_activity(self):\n",
        "    b = [\"nutrition\",\"Medication\"]\n",
        "    ch=int(input(\"select Activity by pressing no key to select 0: nutrition 1: Medication\" ))\n",
        "    for i in range(len(b)):\n",
        "      if(i==ch):\n",
        "        treat=b[ch]\n",
        "        print(\"The treatment is {}\".format(treat))\n",
        "        if(treat==\"nutrition\"):\n",
        "          nlist=input(\"Enter nutrition names\")\n",
        "          print(\"The nutritions are {}\".format(nlist))\n",
        "        elif(treat==\"Medication\"):\n",
        "          mlist=input(\"Enter medication names\")\n",
        "          print(\"The medications are {}\".format(mlist))\n",
        "  \n",
        "an=animals()\n",
        "an.selectanimal()\n",
        "an.select_activity()\n"
      ]
    },
    {
      "cell_type": "markdown",
      "metadata": {
        "deletable": false,
        "editable": false,
        "nbgrader": {
          "cell_type": "markdown",
          "checksum": "1a0934afaf18cc179bed7f1cd197a1ac",
          "grade": false,
          "grade_id": "Q3",
          "locked": true,
          "schema_version": 3,
          "solution": false,
          "task": false
        },
        "id": "i2TWI5mNopsG"
      },
      "source": [
        "## Scope of Variable\n",
        "\n",
        "What is the scope of a variable? Define the different types of variables based on scope.\n",
        "\n",
        "\n",
        "Instructions:\n",
        "- Enter your solution in the cell block below only.\n",
        "- Do not edit anything else apart from 'YOUR ANSWER HERE' for your solution"
      ]
    },
    {
      "cell_type": "markdown",
      "metadata": {
        "deletable": false,
        "nbgrader": {
          "cell_type": "markdown",
          "checksum": "02ea14196d9dbcd6552525e82e0af08b",
          "grade": true,
          "grade_id": "A3",
          "locked": false,
          "points": 2,
          "schema_version": 3,
          "solution": true,
          "task": false
        },
        "id": "3fpfprJYopsI"
      },
      "source": [
        "**variables** are the storge unit for data values. \n",
        "In Python variables are dynamically assigned values.In python we can use variable without decaring data type before variable use in program.\n",
        "The datatype of the variables based on assigned values types such as string,int, float etc.\n",
        "\n",
        "**Scope of the Variable** It means declaration location and accessibility of variable in varios units of program such as class,function ,constructor, loop or if blocks etc.\n",
        "\n",
        "**Types of Variables based on scopes:**\n",
        "In Python variables on basis of scope categorized in to two types:\n",
        "\n",
        "**1.Global Variables:**\n",
        "The global variables are declared in global space of program and accessed in entire program. In python we declare global variables using global keyword or at global location.\n",
        "Ex.\n",
        "\n",
        "```\n",
        "# This is formatted as code\n",
        "class gv:\n",
        " global x\n",
        " def myfunc(self):\n",
        "  x =\" the cutting edge Technology\"\n",
        "  print(\"Python is \" + x)\n",
        "a=gv()\n",
        "a.myfunc()\n",
        "```\n",
        "**2.local Variables:**\n",
        "The local variables are declared in local space of program and only accessed in perticular program unit.If we declared variable in perticular function then it is accessible only in that function not outside of the function.\n",
        "Ex.\n",
        "\n",
        "```\n",
        "# This is formatted as code\n",
        "class lv:\n",
        " def myfunc(self):\n",
        "  x =\" the cutting edge Technology\" \n",
        "  #x is a local variable that has scope of access within myfun() only.\n",
        "  print(\"Python is \" + x)\n",
        "a=lv()\n",
        "a.myfunc()\n",
        "```\n",
        "\n"
      ]
    },
    {
      "cell_type": "code",
      "execution_count": null,
      "metadata": {
        "deletable": false,
        "editable": false,
        "nbgrader": {
          "cell_type": "code",
          "checksum": "f88b0eebd4d316703cf56b4c48a72efa",
          "grade": false,
          "grade_id": "cell-f0e0b9c35862e705",
          "locked": true,
          "schema_version": 3,
          "solution": false,
          "task": false
        },
        "id": "jocZirbZopsJ"
      },
      "outputs": [],
      "source": [
        ""
      ]
    },
    {
      "cell_type": "markdown",
      "metadata": {
        "deletable": false,
        "editable": false,
        "nbgrader": {
          "cell_type": "markdown",
          "checksum": "2fe746f414d8f9941618edebe04e1441",
          "grade": false,
          "grade_id": "cell-6975b5c3cd3b6be9",
          "locked": true,
          "schema_version": 3,
          "solution": false,
          "task": false
        },
        "id": "9AzFnxNGopsK"
      },
      "source": [
        "## Numpy Arrays\n",
        "\n",
        "Answer the following sub-questions using the following instructions;\n",
        "\n",
        "- Enter your solution in the cell block below only.\n",
        "- Do not edit anything else apart from 'YOUR ANSWER HERE' for your solution"
      ]
    },
    {
      "cell_type": "code",
      "execution_count": null,
      "metadata": {
        "ExecuteTime": {
          "end_time": "2021-12-06T10:34:33.878130Z",
          "start_time": "2021-12-06T10:34:33.861994Z"
        },
        "id": "ivGSzQygopsK"
      },
      "outputs": [],
      "source": [
        "#Run this code cell before proceeding to answer the questions below\n",
        "import numpy as np"
      ]
    },
    {
      "cell_type": "markdown",
      "metadata": {
        "deletable": false,
        "editable": false,
        "nbgrader": {
          "cell_type": "markdown",
          "checksum": "9c9d26ed64b9610b81a1f9413450f0ab",
          "grade": false,
          "grade_id": "cell-ca20f62538f5d9fe",
          "locked": true,
          "schema_version": 3,
          "solution": false,
          "task": false
        },
        "id": "HqsCkGUhopsM"
      },
      "source": [
        "### Create Null vector of size 10"
      ]
    },
    {
      "cell_type": "code",
      "execution_count": null,
      "metadata": {
        "deletable": false,
        "nbgrader": {
          "cell_type": "code",
          "checksum": "1f90fd86ee8801bb6655ab6654691d2a",
          "grade": false,
          "grade_id": "cell-618c4367ee98ea41",
          "locked": false,
          "schema_version": 3,
          "solution": true,
          "task": false
        },
        "id": "DYJIv0XGopsN"
      },
      "outputs": [],
      "source": [
        "def ans1():\n",
        "    '''\n",
        "    Should return a numpy array ONLY\n",
        "    '''\n",
        "    x = np.zeros(10)\n",
        "    print(x)\n",
        "#raise NotImplementedError()\n",
        "ans1()\n",
        "\n"
      ]
    },
    {
      "cell_type": "code",
      "execution_count": null,
      "metadata": {
        "deletable": false,
        "editable": false,
        "nbgrader": {
          "cell_type": "code",
          "checksum": "242e4677c2da2c46c0ce9073dac0790a",
          "grade": true,
          "grade_id": "cell-6bad3621723a283c",
          "locked": true,
          "points": 1,
          "schema_version": 3,
          "solution": false,
          "task": false
        },
        "id": "llaU8IH1opsO"
      },
      "outputs": [],
      "source": [
        ""
      ]
    },
    {
      "cell_type": "code",
      "execution_count": null,
      "metadata": {
        "deletable": false,
        "editable": false,
        "nbgrader": {
          "cell_type": "code",
          "checksum": "4dc1f05b349cdc8dce78d5268c39789d",
          "grade": false,
          "grade_id": "cell-a04a45a8ccb6f0e2",
          "locked": true,
          "schema_version": 3,
          "solution": false,
          "task": false
        },
        "id": "U037yAYXopsP"
      },
      "outputs": [],
      "source": [
        ""
      ]
    },
    {
      "cell_type": "markdown",
      "metadata": {
        "deletable": false,
        "editable": false,
        "nbgrader": {
          "cell_type": "markdown",
          "checksum": "b90a55d8e9c19bad2a69eb1b7ddeb734",
          "grade": false,
          "grade_id": "cell-c67370fdca58ea02",
          "locked": true,
          "schema_version": 3,
          "solution": false,
          "task": false
        },
        "id": "HLXpbv26opsQ"
      },
      "source": [
        "### Create a 3x3 matrix with values ranging from 0-8"
      ]
    },
    {
      "cell_type": "code",
      "execution_count": null,
      "metadata": {
        "deletable": false,
        "nbgrader": {
          "cell_type": "code",
          "checksum": "63d7cd54daac701c9c261848ac9b987f",
          "grade": false,
          "grade_id": "cell-6712bc7acd0447cd",
          "locked": false,
          "schema_version": 3,
          "solution": true,
          "task": false
        },
        "id": "zfVQvFiPopsQ"
      },
      "outputs": [],
      "source": [
        "def ans2():\n",
        "    '''\n",
        "    Should return a numpy array ONLY\n",
        "    '''\n",
        "    ar =  np.arange(0,9).reshape(3,3)\n",
        "    print(ar)\n",
        "   # raise NotImplementedError()\n",
        "ans2()"
      ]
    },
    {
      "cell_type": "code",
      "execution_count": null,
      "metadata": {
        "deletable": false,
        "editable": false,
        "nbgrader": {
          "cell_type": "code",
          "checksum": "be87a8e64fa7142fea35fb8519422502",
          "grade": true,
          "grade_id": "cell-f2355a3832688a18",
          "locked": true,
          "points": 1,
          "schema_version": 3,
          "solution": false,
          "task": false
        },
        "id": "zfgMP-guopsR"
      },
      "outputs": [],
      "source": [
        ""
      ]
    },
    {
      "cell_type": "code",
      "execution_count": null,
      "metadata": {
        "deletable": false,
        "editable": false,
        "nbgrader": {
          "cell_type": "code",
          "checksum": "c327b494e862627b9795e6830bb4d8cf",
          "grade": false,
          "grade_id": "cell-1ed0df92c93f0c46",
          "locked": true,
          "schema_version": 3,
          "solution": false,
          "task": false
        },
        "id": "he9zp0DRopsS"
      },
      "outputs": [],
      "source": [
        ""
      ]
    },
    {
      "cell_type": "markdown",
      "metadata": {
        "deletable": false,
        "editable": false,
        "nbgrader": {
          "cell_type": "markdown",
          "checksum": "56c54b12424f69a9a9f988afd5ac9ec3",
          "grade": false,
          "grade_id": "cell-bf0eceaacf2d2c63",
          "locked": true,
          "schema_version": 3,
          "solution": false,
          "task": false
        },
        "id": "-pAvbMiPopsS"
      },
      "source": [
        "### Find indices of non-zero elements from the numpy array - `[1,2,0,0,4,0]`"
      ]
    },
    {
      "cell_type": "code",
      "execution_count": null,
      "metadata": {
        "deletable": false,
        "nbgrader": {
          "cell_type": "code",
          "checksum": "df40ea823f796d93961a87f22f6d327b",
          "grade": false,
          "grade_id": "cell-419c4b764ad5d1b0",
          "locked": false,
          "schema_version": 3,
          "solution": true,
          "task": false
        },
        "id": "XfcZBRZAopsT"
      },
      "outputs": [],
      "source": [
        "def ans3():\n",
        "    '''\n",
        "    Should return a numpy array ONLY\n",
        "    '''\n",
        "    ar =np.array([1,2,0,0,4,0])\n",
        "    ind=np.nonzero(ar)\n",
        "    print(ind)\n",
        "    \n",
        "    #raise NotImplementedError()\n",
        "ans3()"
      ]
    },
    {
      "cell_type": "code",
      "execution_count": null,
      "metadata": {
        "deletable": false,
        "editable": false,
        "nbgrader": {
          "cell_type": "code",
          "checksum": "7bc14bf4b1c0584b99b07f4f6bf8b568",
          "grade": true,
          "grade_id": "cell-bae7e65f1d368386",
          "locked": true,
          "points": 1,
          "schema_version": 3,
          "solution": false,
          "task": false
        },
        "id": "TDk39zR7opsT"
      },
      "outputs": [],
      "source": [
        ""
      ]
    },
    {
      "cell_type": "code",
      "execution_count": null,
      "metadata": {
        "deletable": false,
        "editable": false,
        "nbgrader": {
          "cell_type": "code",
          "checksum": "143826e1749240a7509ba80f3e8e0d46",
          "grade": false,
          "grade_id": "cell-2c2b1a45000cfc5e",
          "locked": true,
          "schema_version": 3,
          "solution": false,
          "task": false
        },
        "id": "ZIDMb_qRopsU"
      },
      "outputs": [],
      "source": [
        ""
      ]
    },
    {
      "cell_type": "markdown",
      "metadata": {
        "deletable": false,
        "editable": false,
        "nbgrader": {
          "cell_type": "markdown",
          "checksum": "0e85974331755ae001ffceb18b6b9ff2",
          "grade": false,
          "grade_id": "cell-dd660b3937d3ffb8",
          "locked": true,
          "schema_version": 3,
          "solution": false,
          "task": false
        },
        "id": "v0EQmbkgopsU"
      },
      "source": [
        "### Create a random vector of size 30 and find the mean value"
      ]
    },
    {
      "cell_type": "code",
      "execution_count": null,
      "metadata": {
        "deletable": false,
        "nbgrader": {
          "cell_type": "code",
          "checksum": "85d5299e49704f69dec222d598c51294",
          "grade": false,
          "grade_id": "cell-611d31692cc9c71a",
          "locked": false,
          "schema_version": 3,
          "solution": true,
          "task": false
        },
        "id": "--RV-YI3opsV"
      },
      "outputs": [],
      "source": [
        "def ans4():\n",
        "    '''\n",
        "    Should return a tuple = (random array,mean of random array)\n",
        "    '''\n",
        "    ar=np.random.random(30)\n",
        "    print(ar)\n",
        "    print(\"The mean is \",ar.mean())\n",
        "    #raise NotImplementedError()\n",
        "ans4()"
      ]
    },
    {
      "cell_type": "code",
      "execution_count": null,
      "metadata": {
        "deletable": false,
        "editable": false,
        "nbgrader": {
          "cell_type": "code",
          "checksum": "e965e4f881d680c5ba06bd38453d6817",
          "grade": true,
          "grade_id": "cell-501e8ef476fd5231",
          "locked": true,
          "points": 1,
          "schema_version": 3,
          "solution": false,
          "task": false
        },
        "id": "6xln6WEGopsV"
      },
      "outputs": [],
      "source": [
        ""
      ]
    },
    {
      "cell_type": "code",
      "execution_count": null,
      "metadata": {
        "deletable": false,
        "editable": false,
        "nbgrader": {
          "cell_type": "code",
          "checksum": "3fe3874e914d507ab14ecf8d27383781",
          "grade": false,
          "grade_id": "cell-8894756e39562b4d",
          "locked": true,
          "schema_version": 3,
          "solution": false,
          "task": false
        },
        "id": "9XkAinRSopsW"
      },
      "outputs": [],
      "source": [
        ""
      ]
    },
    {
      "cell_type": "markdown",
      "metadata": {
        "deletable": false,
        "editable": false,
        "nbgrader": {
          "cell_type": "markdown",
          "checksum": "fde84b3837158be3d2a4fa3dfba99ac8",
          "grade": false,
          "grade_id": "cell-9941543a466868d4",
          "locked": true,
          "schema_version": 3,
          "solution": false,
          "task": false
        },
        "id": "D7FKIRb2opsW"
      },
      "source": [
        "## Pandas\n",
        "\n",
        "Answer the following sub-questions using the following instructions;\n",
        "\n",
        "- Enter your solution in the cell block below only.\n",
        "- Do not edit anything else apart from 'YOUR ANSWER HERE' or 'YOUR CODE HERE' for your solution"
      ]
    },
    {
      "cell_type": "code",
      "execution_count": 3,
      "metadata": {
        "ExecuteTime": {
          "end_time": "2021-12-06T09:51:46.441927Z",
          "start_time": "2021-12-06T09:51:31.477908Z"
        },
        "id": "uELJ0tLropsX"
      },
      "outputs": [],
      "source": [
        "#Run this cell before proceeding with the below questions;\n",
        "\n",
        "import pandas as pd"
      ]
    },
    {
      "cell_type": "markdown",
      "metadata": {
        "deletable": false,
        "editable": false,
        "nbgrader": {
          "cell_type": "markdown",
          "checksum": "6351e4f138aa8b886d9ebb445af68dd3",
          "grade": false,
          "grade_id": "cell-31d62f752cedbe03",
          "locked": true,
          "schema_version": 3,
          "solution": false,
          "task": false
        },
        "id": "n-Fi9qtdopsX"
      },
      "source": [
        "### Create a dataframe with columns and values as follows;\n",
        "`\n",
        "'X':[78,85,96,80,86], 'Y':[84,94,89,83,86],'Z':[86,97,96,72,83]\n",
        "`"
      ]
    },
    {
      "cell_type": "code",
      "execution_count": null,
      "metadata": {
        "deletable": false,
        "editable": false,
        "nbgrader": {
          "cell_type": "code",
          "checksum": "03f59d04fb4e1526282f04a837573477",
          "grade": false,
          "grade_id": "cell-d625b4d2b7a54433",
          "locked": true,
          "schema_version": 3,
          "solution": false,
          "task": false
        },
        "id": "wk6S-T3UopsZ"
      },
      "outputs": [],
      "source": [
        "def ans5(x,y,z):\n",
        "    x=X\n",
        "    y=Y\n",
        "    z=Z\n",
        "    '''\n",
        "      x,y,z are three lists which contain the column values\n",
        "      Should return a dataframe with the passed lists as columns and X,Y,Z as column names\n",
        "    '''\n",
        "  \n",
        "    df=pd.DataFrame({'X':x,'Y':y,'Z':z})\n",
        "    print(df)\n",
        "    #raise NotImplementedError()\n",
        "X=[78,85,96,80,86]\n",
        "Y=[84,94,89,83,86]\n",
        "Z=[86,97,96,72,83]\n",
        "\n",
        "ans5(X,Y,Z)"
      ]
    },
    {
      "cell_type": "markdown",
      "metadata": {
        "deletable": false,
        "editable": false,
        "nbgrader": {
          "cell_type": "markdown",
          "checksum": "7a43f5fd1e1412f5d64e523cf17e7854",
          "grade": false,
          "grade_id": "cell-af34ca04850aafdb",
          "locked": true,
          "schema_version": 3,
          "solution": false,
          "task": false
        },
        "id": "oLABGt3fopsa"
      },
      "source": [
        "### Indexing Dataframe\n",
        "\n",
        "Create a function to slice the dataframe using three parameters;\\\n",
        "`\n",
        "m: rows\n",
        "n: columns\n",
        "df: dataframe\n",
        "`"
      ]
    },
    {
      "cell_type": "code",
      "execution_count": null,
      "metadata": {
        "ExecuteTime": {
          "end_time": "2021-12-06T10:15:58.008293Z",
          "start_time": "2021-12-06T10:15:57.914618Z"
        },
        "deletable": false,
        "editable": false,
        "nbgrader": {
          "cell_type": "code",
          "checksum": "1d444fedf640bd9e7dfc608c3516e475",
          "grade": true,
          "grade_id": "cell-e4abe934c49eb7b0",
          "locked": true,
          "points": 2,
          "schema_version": 3,
          "solution": false,
          "task": false
        },
        "id": "ciSBjzTiopsa"
      },
      "outputs": [],
      "source": [
        "def ans6(m,n,df):\n",
        "    m=M\n",
        "    n=N\n",
        "    df\n",
        "    '''\n",
        "    m: List containing the rows to be sliced\n",
        "    n: List containing the names of the columns to be indexed\n",
        "    df: Dataframe to be sliced using m,n lists\n",
        "    Should ONLY return the sliced rows and columns \n",
        "    '''\n",
        "    \n",
        "products_list = ['laptop', 'printer']\n",
        "\n",
        "price=[20000,5000]\n",
        "df = pd.DataFrame([price], columns=products_list)\n",
        "print(df.iloc[0])\n",
        "print(df.iloc[-1:0])\n",
        "\n",
        "\n",
        "ans6(M,N,df)"
      ]
    },
    {
      "cell_type": "markdown",
      "metadata": {
        "deletable": false,
        "editable": false,
        "nbgrader": {
          "cell_type": "markdown",
          "checksum": "cd2b5c67a45db4d78b0850460bfd5f01",
          "grade": false,
          "grade_id": "cell-dc4ec7952bf6862e",
          "locked": true,
          "schema_version": 3,
          "solution": false,
          "task": false
        },
        "id": "1StM1uliopsb"
      },
      "source": [
        "### Filtering Data Frames\n",
        "\n",
        "Write examples, one each for filtering, sorting and grouping using different columns of a dataframe"
      ]
    },
    {
      "cell_type": "code",
      "execution_count": null,
      "metadata": {
        "deletable": false,
        "nbgrader": {
          "cell_type": "code",
          "checksum": "7182f35170c97bfae0897f461175d3f4",
          "grade": true,
          "grade_id": "cell-f4608269e2cde66e",
          "locked": false,
          "points": 1,
          "schema_version": 3,
          "solution": true,
          "task": false
        },
        "id": "gNb6KYoqopsc"
      },
      "outputs": [],
      "source": [
        "df = pd.DataFrame({'Name': [' RACHEL ', ' MONICA ', ' PHOEBE ',' ROSS ', 'CHANDLER', ' JOEY '],\n",
        "'Age': [30, 35, 37, 33, 34, 30],'Salary': [100000, 93000, 88000, 120000, 94000, 95000],\n",
        "'JOB': ['DESIGNER', 'CHEF', 'MASUS', 'PALENTOLOGY','IT', 'ARTIST']})\n",
        "newdf = df.iloc[:5,] #First 5 rows\n",
        "newdf2=df.iloc[1:5,] #Second to Fifth row\n",
        "newdf3=df.iloc[5,0] #Sixth row and 1st column\n",
        "newdf4=df.iloc[1:5,0] #Second to Fifth row, first column\n",
        "newdf5=df.iloc[1:5,:5] #Second to Fifth row, first 5 columns\n",
        "newdf6=df.iloc[2:7,1:3] #Third to Seventh row, 2nd and 3rd column\n",
        "newdf7=df[df['Salary']>=100000] #Comparing column by name and condition\n",
        "#rslt_df = dataframe[dataframe['Percentage'] > 70] \n",
        "print(newdf,\"\\n\\n\")\n",
        "print(newdf2,\"\\n\\n\")\n",
        "print(newdf3,\"\\n\\n\")\n",
        "print(newdf4,\"\\n\\n\")\n",
        "print(newdf5,\"\\n\\n\")\n",
        "print(newdf6,\"\\n\\n\")\n",
        "print(newdf7,\"\\n\\n\")"
      ]
    },
    {
      "cell_type": "code",
      "execution_count": null,
      "metadata": {
        "deletable": false,
        "nbgrader": {
          "cell_type": "code",
          "checksum": "1180cbd82e800b79d0ba11d44a88c5c1",
          "grade": true,
          "grade_id": "cell-bf80ca61256a7d56",
          "locked": false,
          "points": 1,
          "schema_version": 3,
          "solution": true,
          "task": false
        },
        "id": "YOR2XotCopsc"
      },
      "outputs": [],
      "source": [
        "dfs=df.sort_values(by=['Name'],ascending=False)\n",
        "print(dfs,\"\\n\\n\")\n",
        "dfs1=df.sort_values(by=['Salary'],ascending=False)\n",
        "print(dfs1,\"\\n\\n\")\n"
      ]
    },
    {
      "cell_type": "code",
      "execution_count": null,
      "metadata": {
        "deletable": false,
        "nbgrader": {
          "cell_type": "code",
          "checksum": "a151dd78b2ea79abb8e6a024bc3d1cb8",
          "grade": true,
          "grade_id": "cell-46242ef442a1ce55",
          "locked": false,
          "points": 1,
          "schema_version": 3,
          "solution": true,
          "task": false
        },
        "id": "U_Hdkk-oopsd"
      },
      "outputs": [],
      "source": [
        "dfgb=df.groupby(['Age']).min()\n",
        "print(dfgb)"
      ]
    },
    {
      "cell_type": "code",
      "execution_count": null,
      "metadata": {
        "deletable": false,
        "editable": false,
        "nbgrader": {
          "cell_type": "code",
          "checksum": "a490c1edc9c02888a0e41f11c710064a",
          "grade": false,
          "grade_id": "cell-d4740b354c0d11c4",
          "locked": true,
          "schema_version": 3,
          "solution": false,
          "task": false
        },
        "id": "8mPlStHeopsd"
      },
      "outputs": [],
      "source": [
        ""
      ]
    },
    {
      "cell_type": "markdown",
      "metadata": {
        "deletable": false,
        "editable": false,
        "nbgrader": {
          "cell_type": "markdown",
          "checksum": "3965480947dc728a2d94c658849ae735",
          "grade": false,
          "grade_id": "cell-9cc6b584a5dfc2dc",
          "locked": true,
          "schema_version": 3,
          "solution": false,
          "task": false
        },
        "id": "7Pd0N-Wzopse"
      },
      "source": [
        "### Joining two data frames\n",
        "\n",
        "Create two dataframes and join them using the different methods available in pandas"
      ]
    },
    {
      "cell_type": "code",
      "execution_count": null,
      "metadata": {
        "deletable": false,
        "nbgrader": {
          "cell_type": "code",
          "checksum": "98c693b38159c25ea9bcdcc6c9382241",
          "grade": true,
          "grade_id": "cell-060d977d59cc13cf",
          "locked": false,
          "points": 1,
          "schema_version": 3,
          "solution": true,
          "task": false
        },
        "id": "ZiK9t2AUopse"
      },
      "outputs": [],
      "source": [
        "df1 = pd.DataFrame({'sr.no': [1,2,3,4],\n",
        "                    'Name': ['Raj', 'Ravi', 'Dinesh', 'Jay'],\n",
        "                    'City': ['MUMBAI', 'PUNE', 'MUMBAI', 'DELHI']})\n",
        "df2 = pd.DataFrame({'sr.no': [6,7,8,9],\n",
        "                    'Name': ['Kirti', 'Rakhi', 'Rekha', 'Priti'],\n",
        "                    'City': ['MUMBAI', 'PUNE', 'MUMBAI', 'DELHI']})\n",
        "frames = [df1, df2]\n",
        "result = pd.concat(frames,ignore_index=True)\n",
        "print(result,\"\\n\\n\")\n",
        "result2 = df1.merge(df2, how='inner',on='sr.no')\n",
        "print(result2,\"\\n\\n\")\n",
        "result3 = df1.merge(df2, how='outer',on='sr.no')\n",
        "print(result2,\"\\n\\n\")\n",
        "result4 = df1.merge(df2, how='left',on='City')\n",
        "print(result4,\"\\n\\n\")\n",
        "result5 = df1.merge(df2, how='right',on='City')\n",
        "print(result5,\"\\n\\n\")"
      ]
    },
    {
      "cell_type": "code",
      "execution_count": null,
      "metadata": {
        "deletable": false,
        "editable": false,
        "nbgrader": {
          "cell_type": "code",
          "checksum": "a058edcc762cb49ff8e56383ae0af918",
          "grade": false,
          "grade_id": "cell-3525338a20d7aee8",
          "locked": true,
          "schema_version": 3,
          "solution": false,
          "task": false
        },
        "id": "EMJ-7qthopsf"
      },
      "outputs": [],
      "source": [
        ""
      ]
    },
    {
      "cell_type": "markdown",
      "metadata": {
        "deletable": false,
        "editable": false,
        "nbgrader": {
          "cell_type": "markdown",
          "checksum": "91147b2ed9902f27ab2d7519ebef2eba",
          "grade": false,
          "grade_id": "cell-c4cc993b7f237785",
          "locked": true,
          "schema_version": 3,
          "solution": false,
          "task": false
        },
        "id": "Lm164Rx_opsf"
      },
      "source": [
        "### Data Cleaning\n",
        "\n",
        "Create a dataframe with null values and perform the following operations on it;\n"
      ]
    },
    {
      "cell_type": "markdown",
      "metadata": {
        "deletable": false,
        "editable": false,
        "nbgrader": {
          "cell_type": "markdown",
          "checksum": "b1a0e30219ff76a9ef0b1544a0274371",
          "grade": false,
          "grade_id": "cell-0f9227d4448ac25e",
          "locked": true,
          "schema_version": 3,
          "solution": false,
          "task": false
        },
        "id": "fEsQVZZAopsf"
      },
      "source": [
        "- Clear the null values completely"
      ]
    },
    {
      "cell_type": "code",
      "execution_count": 9,
      "metadata": {
        "deletable": false,
        "nbgrader": {
          "cell_type": "code",
          "checksum": "d536f98f1cc724b8e903773792926f65",
          "grade": true,
          "grade_id": "cell-5fdbc586e3f84431",
          "locked": false,
          "points": 1,
          "schema_version": 3,
          "solution": true,
          "task": false
        },
        "id": "QYPxQJnIopsg",
        "colab": {
          "base_uri": "https://localhost:8080/"
        },
        "outputId": "67d652cc-f85a-4fd8-b641-ef85fe9de925"
      },
      "outputs": [
        {
          "output_type": "stream",
          "name": "stdout",
          "text": [
            "     Name  ID Salary  Role\n",
            "0  Pankaj   1    100   CEO\n",
            "1  Meghna   2    200  None\n",
            "2   David   3    NaN   NaT\n",
            "3    Lisa   4    NaT   NaT\n"
          ]
        }
      ],
      "source": [
        "import pandas as pd\n",
        "import numpy as np\n",
        "\n",
        "d1 = {'Name': ['Pankaj', 'Meghna', 'David', 'Lisa'], 'ID': [1, 2, 3, 4], 'Salary': [100, 200, np.nan, pd.NaT],\n",
        "      'Role': ['CEO', None, pd.NaT, pd.NaT]}\n",
        "df = pd.DataFrame(d1)\n",
        "print(df)\n"
      ]
    },
    {
      "cell_type": "markdown",
      "metadata": {
        "deletable": false,
        "editable": false,
        "nbgrader": {
          "cell_type": "markdown",
          "checksum": "a4a6319f9eea14a73a48f79f78854885",
          "grade": false,
          "grade_id": "cell-ff9a4445bc366cca",
          "locked": true,
          "schema_version": 3,
          "solution": false,
          "task": false
        },
        "id": "BxF9Fk3Hopsg"
      },
      "source": [
        "- Replace the null values with the mean of the column"
      ]
    },
    {
      "cell_type": "code",
      "execution_count": null,
      "metadata": {
        "deletable": false,
        "nbgrader": {
          "cell_type": "code",
          "checksum": "1f4ea6d4c1142b5d411799ddc9ba5339",
          "grade": true,
          "grade_id": "cell-2a62f236010e09e3",
          "locked": false,
          "points": 1,
          "schema_version": 3,
          "solution": true,
          "task": false
        },
        "id": "rVhFG8tLopsg"
      },
      "outputs": [],
      "source": [
        "d1 = {'Name': ['Pankaj', 'Meghna', 'David', 'Lisa'], 'ID': [1, 2, 3, 4], 'Salary': [100, 200, np.nan, pd.NaT],\n",
        "      'Role': ['CEO', None, pd.NaT, pd.NaT]}\n",
        "\n",
        "df = pd.DataFrame(d1)\n",
        "\n",
        "print(df,\"\\n\\n\")\n",
        "\n",
        "#pd.DataFrame(df, dtype=\"float64\").mean()\n",
        "#df1 = df.isnull()\n",
        "df1=df[\"Salary\"] = df[\"Salary\"].fillna(value=df[\"Salary\"].mean())\n",
        "df[\"Role\"] = df[\"Role\"].fillna(\"Missing\")\n",
        "\n",
        "print(df)"
      ]
    },
    {
      "cell_type": "code",
      "source": [
        ""
      ],
      "metadata": {
        "id": "5kIa2YJ2ctMP"
      },
      "execution_count": null,
      "outputs": []
    }
  ],
  "metadata": {
    "kernelspec": {
      "display_name": "Python 3 (ipykernel)",
      "language": "python",
      "name": "python3"
    },
    "language_info": {
      "codemirror_mode": {
        "name": "ipython",
        "version": 3
      },
      "file_extension": ".py",
      "mimetype": "text/x-python",
      "name": "python",
      "nbconvert_exporter": "python",
      "pygments_lexer": "ipython3",
      "version": "3.9.1"
    },
    "toc": {
      "base_numbering": 1,
      "nav_menu": {},
      "number_sections": true,
      "sideBar": true,
      "skip_h1_title": false,
      "title_cell": "Table of Contents",
      "title_sidebar": "Contents",
      "toc_cell": false,
      "toc_position": {},
      "toc_section_display": true,
      "toc_window_display": false
    },
    "varInspector": {
      "cols": {
        "lenName": 16,
        "lenType": 16,
        "lenVar": 40
      },
      "kernels_config": {
        "python": {
          "delete_cmd_postfix": "",
          "delete_cmd_prefix": "del ",
          "library": "var_list.py",
          "varRefreshCmd": "print(var_dic_list())"
        },
        "r": {
          "delete_cmd_postfix": ") ",
          "delete_cmd_prefix": "rm(",
          "library": "var_list.r",
          "varRefreshCmd": "cat(var_dic_list()) "
        }
      },
      "types_to_exclude": [
        "module",
        "function",
        "builtin_function_or_method",
        "instance",
        "_Feature"
      ],
      "window_display": false
    },
    "colab": {
      "name": "Jaypalsing Rajput_PW3-A1.ipynb",
      "provenance": [],
      "collapsed_sections": []
    }
  },
  "nbformat": 4,
  "nbformat_minor": 0
}